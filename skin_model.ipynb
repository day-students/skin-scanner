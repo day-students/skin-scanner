{
  "nbformat": 4,
  "nbformat_minor": 0,
  "metadata": {
    "colab": {
      "name": "skin_model.ipynb",
      "version": "0.3.2",
      "provenance": [],
      "collapsed_sections": [],
      "machine_shape": "hm"
    },
    "kernelspec": {
      "name": "python3",
      "display_name": "Python 3"
    }
  },
  "cells": [
    {
      "cell_type": "code",
      "metadata": {
        "id": "wY2dWWJzXkQB",
        "colab_type": "code",
        "outputId": "81091255-0901-43ca-decc-6de3379637d9",
        "colab": {
          "base_uri": "https://localhost:8080/",
          "height": 119
        }
      },
      "source": [
        "from PIL import Image\n",
        "import numpy as np\n",
        "import os\n",
        "import tensorflow as tf\n",
        "from tensorflow.python.keras.layers.convolutional import Conv2D\n",
        "from tensorflow.python.keras.layers import Dense\n",
        "from tensorflow.python.keras.layers.convolutional import MaxPooling2D\n",
        "from tensorflow.python.keras.layers import Flatten\n",
        "from sklearn.model_selection import train_test_split\n",
        "\n",
        "!git clone https://github.com/jlim10343/skin_images\n",
        "os.chdir('./skin_images')"
      ],
      "execution_count": 1,
      "outputs": [
        {
          "output_type": "stream",
          "text": [
            "Cloning into 'skin_images'...\n",
            "remote: Enumerating objects: 4664, done.\u001b[K\n",
            "remote: Counting objects: 100% (4664/4664), done.\u001b[K\n",
            "remote: Compressing objects: 100% (4662/4662), done.\u001b[K\n",
            "remote: Total 4664 (delta 0), reused 4661 (delta 0), pack-reused 0\n",
            "Receiving objects: 100% (4664/4664), 35.27 MiB | 9.72 MiB/s, done.\n"
          ],
          "name": "stdout"
        }
      ]
    },
    {
      "cell_type": "code",
      "metadata": {
        "id": "y0L3dydVZBj-",
        "colab_type": "code",
        "colab": {}
      },
      "source": [
        "eczema_images = np.array([np.array(Image.open('Eczema/' + filename)) for filename in os.listdir('Eczema')])\n",
        "tinea_images = np.array([np.array(Image.open('Tinea/' + filename)) for filename in os.listdir('Tinea')])\n",
        "psoriasis_images = np.array([np.array(Image.open('Psoriasis/' + filename)) for filename in os.listdir('Psoriasis')])\n",
        "skin_images = np.array([np.array(Image.open('Skin_pics/' + filename)) for filename in os.listdir('Skin_pics')])"
      ],
      "execution_count": 0,
      "outputs": []
    },
    {
      "cell_type": "code",
      "metadata": {
        "id": "6e7kWqPgZf5N",
        "colab_type": "code",
        "colab": {}
      },
      "source": [
        "eczema_images = np.reshape(eczema_images, (eczema_images.shape[0], 224, 224, 3))\n",
        "tinea_images = np.reshape(tinea_images, (tinea_images.shape[0], 224, 224, 3))\n",
        "psoriasis_images = np.reshape(psoriasis_images, (psoriasis_images.shape[0], 224, 224, 3))\n",
        "skin_images = np.reshape(skin_images, (skin_images.shape[0], 224, 224, 3))"
      ],
      "execution_count": 0,
      "outputs": []
    },
    {
      "cell_type": "code",
      "metadata": {
        "id": "glbw1_W5bzto",
        "colab_type": "code",
        "colab": {}
      },
      "source": [
        "tinea_images = tinea_images.astype(np.float32) / 255\n",
        "eczema_images = eczema_images.astype(np.float32) / 255\n",
        "psoriasis_images = psoriasis_images.astype(np.float32) / 255\n",
        "skin_images = skin_images.astype(np.float32) / 255"
      ],
      "execution_count": 0,
      "outputs": []
    },
    {
      "cell_type": "code",
      "metadata": {
        "id": "BZBiPbwJb_Wk",
        "colab_type": "code",
        "colab": {}
      },
      "source": [
        "images = np.vstack((eczema_images, psoriasis_images, tinea_images, skin_images))"
      ],
      "execution_count": 0,
      "outputs": []
    },
    {
      "cell_type": "code",
      "metadata": {
        "id": "kWwM71HEcDRP",
        "colab_type": "code",
        "colab": {}
      },
      "source": [
        "# [1, 0, 0, 0] is eczema, [0, 1, 0, 0] is psoriasis, [0, 0, 1, 0] is tinea, and [0, 0, 0, 1] is normal skin\n",
        "labels = [[1, 0, 0, 0]] * eczema_images.shape[0] + [[0, 1, 0, 0]] * psoriasis_images.shape[0] + [[0, 0, 1, 0]] * tinea_images.shape[0] + [[0, 0, 0, 1]] * skin_images.shape[0]\n",
        "labels = np.array(labels)"
      ],
      "execution_count": 0,
      "outputs": []
    },
    {
      "cell_type": "code",
      "metadata": {
        "id": "uwrgdjGFcLIQ",
        "colab_type": "code",
        "colab": {}
      },
      "source": [
        "model = tf.keras.Sequential()\n",
        "model.add(Conv2D(32, kernel_size=(5, 5), strides=(1, 1),\n",
        "                 activation='relu', input_shape=(224, 224, 3)))\n",
        "model.add(MaxPooling2D(pool_size=(2, 2), strides=(2, 2)))\n",
        "model.add(Conv2D(64, (5, 5), activation='relu'))\n",
        "model.add(MaxPooling2D(pool_size=(2, 2)))\n",
        "model.add(Flatten())\n",
        "model.add(Dense(1000, activation='relu'))\n",
        "model.add(Dense(4, activation='softmax'))\n",
        "# We will now compile and print out a summary of our model\n",
        "model.compile(loss='categorical_crossentropy',\n",
        "              optimizer='adam',\n",
        "              metrics=['accuracy'])"
      ],
      "execution_count": 0,
      "outputs": []
    },
    {
      "cell_type": "code",
      "metadata": {
        "id": "ZTQ_m3HicNcG",
        "colab_type": "code",
        "colab": {}
      },
      "source": [
        "data_train, data_test, labels_train, labels_test = train_test_split(images, labels, test_size=0.20, random_state=0)"
      ],
      "execution_count": 0,
      "outputs": []
    },
    {
      "cell_type": "code",
      "metadata": {
        "id": "675CZqlScQbW",
        "colab_type": "code",
        "colab": {
          "base_uri": "https://localhost:8080/",
          "height": 153
        },
        "outputId": "b510ed12-3e2a-4f94-dbba-e8dcea194b35"
      },
      "source": [
        "model.fit(data_train, labels_train, epochs=5)"
      ],
      "execution_count": 0,
      "outputs": [
        {
          "output_type": "stream",
          "text": [
            "Epoch 1/5\n",
            "3857/3857 [==============================] - 377s 98ms/sample - loss: 1.9962 - acc: 0.3938\n",
            "Epoch 2/5\n",
            "3857/3857 [==============================] - 374s 97ms/sample - loss: 1.1282 - acc: 0.4952\n",
            "Epoch 3/5\n",
            "3857/3857 [==============================] - 373s 97ms/sample - loss: 1.0455 - acc: 0.5380\n",
            "Epoch 4/5\n",
            "  32/3857 [..............................] - ETA: 6:09 - loss: 0.7205 - acc: 0.7812"
          ],
          "name": "stdout"
        }
      ]
    },
    {
      "cell_type": "code",
      "metadata": {
        "id": "cGRHR95EcStI",
        "colab_type": "code",
        "colab": {}
      },
      "source": [
        "loss, accuracy = model.evaluate(data_test, labels_test)\n",
        "print('Test accuracy: %.2f' % (accuracy))"
      ],
      "execution_count": 0,
      "outputs": []
    },
    {
      "cell_type": "code",
      "metadata": {
        "id": "OPs6HK1gcU3y",
        "colab_type": "code",
        "colab": {}
      },
      "source": [
        ""
      ],
      "execution_count": 0,
      "outputs": []
    }
  ]
}